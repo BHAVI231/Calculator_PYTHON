{
 "cells": [
  {
   "cell_type": "code",
   "execution_count": 1,
   "id": "084743ba-bbbd-4c6e-a48e-bea145d9b294",
   "metadata": {},
   "outputs": [],
   "source": [
    "def add(x, y):\n",
    "    return x + y\n",
    "\n",
    "def subtract(x, y):\n",
    "    return x - y\n",
    "\n",
    "def multiply(x, y):\n",
    "    return x * y\n",
    "\n",
    "def divide(x, y):\n",
    "    if y == 0:\n",
    "        return \"Error! Division by zero.\"\n",
    "    return x / y\n",
    "\n",
    "def calculator():\n",
    "    print(\"Simple Calculator\")\n",
    "    print(\"Select operation:\")\n",
    "    print(\"1. Add\")\n",
    "    print(\"2. Subtract\")\n",
    "    print(\"3. Multiply\")\n",
    "    print(\"4. Divide\")\n",
    "\n",
    "    while True:\n",
    "        choice = input(\"Enter choice (1/2/3/4) or 'q' to quit: \")\n",
    "\n",
    "        if choice.lower() == 'q':\n",
    "            print(\"Exiting calculator. Goodbye!\")\n",
    "            break\n",
    "\n",
    "        if choice in ('1', '2', '3', '4'):\n",
    "            try:\n",
    "                num1 = float(input(\"Enter first number: \"))\n",
    "                num2 = float(input(\"Enter second number: \"))\n",
    "\n",
    "                if choice == '1':\n",
    "                    print(\"Result:\", add(num1, num2))\n",
    "                elif choice == '2':\n",
    "                    print(\"Result:\", subtract(num1, num2))\n",
    "                elif choice == '3':\n",
    "                    print(\"Result:\", multiply(num1, num2))\n",
    "                elif choice == '4':\n",
    "                    print(\"Result:\", divide(num1, num2))\n",
    "\n",
    "            except ValueError:\n",
    "                print(\"Invalid input! Please enter numeric values.\")\n",
    "        else:\n",
    "            print(\"Invalid choice! Please select a valid option.\")\n"
   ]
  },
  {
   "cell_type": "code",
   "execution_count": 2,
   "id": "d3c83bde-3a34-412f-b5e6-f8a974dd3351",
   "metadata": {},
   "outputs": [
    {
     "name": "stdout",
     "output_type": "stream",
     "text": [
      "Simple Calculator\n",
      "Select operation:\n",
      "1. Add\n",
      "2. Subtract\n",
      "3. Multiply\n",
      "4. Divide\n"
     ]
    },
    {
     "name": "stdin",
     "output_type": "stream",
     "text": [
      "Enter choice (1/2/3/4) or 'q' to quit:  1\n",
      "Enter first number:  200\n",
      "Enter second number:  200\n"
     ]
    },
    {
     "name": "stdout",
     "output_type": "stream",
     "text": [
      "Result: 400.0\n"
     ]
    },
    {
     "name": "stdin",
     "output_type": "stream",
     "text": [
      "Enter choice (1/2/3/4) or 'q' to quit:  q\n"
     ]
    },
    {
     "name": "stdout",
     "output_type": "stream",
     "text": [
      "Exiting calculator. Goodbye!\n"
     ]
    }
   ],
   "source": [
    "calculator()"
   ]
  },
  {
   "cell_type": "code",
   "execution_count": null,
   "id": "1d9f30b8-48a2-4779-942b-e5bd6eca258f",
   "metadata": {},
   "outputs": [],
   "source": [
    "import tkinter as tk\n",
    "from tkinter import messagebox\n",
    "\n",
    "def on_click(event):\n",
    "    text = event.widget.cget(\"text\")\n",
    "    if text == \"=\":\n",
    "        try:\n",
    "            result = eval(str(entry_var.get()))\n",
    "            entry_var.set(result)\n",
    "        except Exception as e:\n",
    "            messagebox.showerror(\"Error\", \"Invalid Input\")\n",
    "            entry_var.set(\"\")\n",
    "    elif text == \"C\":\n",
    "        entry_var.set(\"\")\n",
    "    else:\n",
    "        entry_var.set(entry_var.get() + text)\n",
    "\n",
    "# Create main window\n",
    "root = tk.Tk()\n",
    "root.title(\"Calculator\")\n",
    "root.geometry(\"300x400\")\n",
    "root.resizable(False, False)\n",
    "\n",
    "entry_var = tk.StringVar()\n",
    "entry = tk.Entry(root, textvar=entry_var, font=\"Arial 20\", justify=\"right\", bd=10, relief=tk.SUNKEN)\n",
    "entry.pack(fill=tk.BOTH, ipadx=8, ipady=8, padx=10, pady=10)\n",
    "\n",
    "# Button layout\n",
    "buttons = [\n",
    "    ('7', '8', '9', '/'),\n",
    "    ('4', '5', '6', '*'),\n",
    "    ('1', '2', '3', '-'),\n",
    "    ('C', '0', '=', '+')\n",
    "]\n",
    "\n",
    "frame = tk.Frame(root)\n",
    "frame.pack()\n",
    "\n",
    "for row in buttons:\n",
    "    row_frame = tk.Frame(frame)\n",
    "    row_frame.pack(fill=tk.BOTH, expand=True)\n",
    "    for btn_text in row:\n",
    "        button = tk.Button(row_frame, text=btn_text, font=\"Arial 18\", padx=20, pady=20)\n",
    "        button.pack(side=tk.LEFT, fill=tk.BOTH, expand=True)\n",
    "        button.bind(\"<Button-1>\", on_click)"
   ]
  },
  {
   "cell_type": "code",
   "execution_count": null,
   "id": "97cb3006-6e16-4f4d-a55a-0a6426a3b1d6",
   "metadata": {},
   "outputs": [],
   "source": [
    "root.mainloop()"
   ]
  },
  {
   "cell_type": "code",
   "execution_count": null,
   "id": "05b831a7-5e3b-4793-9549-812f766cde6d",
   "metadata": {},
   "outputs": [],
   "source": []
  }
 ],
 "metadata": {
  "kernelspec": {
   "display_name": "Python 3 (ipykernel)",
   "language": "python",
   "name": "python3"
  },
  "language_info": {
   "codemirror_mode": {
    "name": "ipython",
    "version": 3
   },
   "file_extension": ".py",
   "mimetype": "text/x-python",
   "name": "python",
   "nbconvert_exporter": "python",
   "pygments_lexer": "ipython3",
   "version": "3.12.7"
  }
 },
 "nbformat": 4,
 "nbformat_minor": 5
}
